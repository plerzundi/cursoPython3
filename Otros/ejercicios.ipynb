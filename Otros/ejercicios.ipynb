{
 "cells": [
  {
   "cell_type": "markdown",
   "metadata": {},
   "source": [
    "# Ejercicio 10\n",
    "## Logaritmo\n"
   ]
  },
  {
   "cell_type": "code",
   "execution_count": null,
   "metadata": {},
   "outputs": [],
   "source": [
    "from math import log10\n",
    "\n",
    "a = int(input(\"Ingrese el primer número..:\\n\"))\n",
    "b = int(input(\"Ingrese el segundo número..:\\n\"))\n",
    "\n",
    "print(a,\"+\", b, \"es\", a+b)\n",
    "print(\"La base de 10  de logaritmo de a:\", log10(a))\n",
    "print(a, \"^\",b ,\"es\",a**b)\n"
   ]
  },
  {
   "cell_type": "markdown",
   "metadata": {},
   "source": [
    "## Ejercicio 17\n",
    "\n",
    "### Capacidad Calorifica"
   ]
  },
  {
   "cell_type": "code",
   "execution_count": 4,
   "metadata": {},
   "outputs": [
    {
     "name": "stdout",
     "output_type": "stream",
     "text": [
      " Ingresa el  el monto de agua en milimetros:1000\n",
      "Ingresa la temperatura en celcius:120\n",
      "Podría requerir 502320 joules de energia\n",
      "esta energia costará 1.24 centavos.\n"
     ]
    }
   ],
   "source": [
    "WATER_HEAT_CAPACITY = 4.186\n",
    "ELECTRICITY_PRICE = 8.9\n",
    "J_TO_KWH = 2.777e-7 # es como escribir 2.777*10^7\n",
    "\n",
    "volume = float(input(\" Ingresa el  el monto de agua en milimetros:\"))\n",
    "d_temp = float(input( \"Ingresa la temperatura en celcius:\"))\n",
    "\n",
    "q = volume * d_temp * WATER_HEAT_CAPACITY\n",
    "\n",
    "print(\"Podría requerir %d joules de energia\" % q)\n",
    "kwh = q * J_TO_KWH\n",
    "cost = kwh * ELECTRICITY_PRICE\n",
    "\n",
    "print (\"esta energia costará %.2f centavos.\" % cost) "
   ]
  },
  {
   "cell_type": "code",
   "execution_count": null,
   "metadata": {},
   "outputs": [],
   "source": []
  }
 ],
 "metadata": {
  "kernelspec": {
   "display_name": "Python 3",
   "language": "python",
   "name": "python3"
  },
  "language_info": {
   "codemirror_mode": {
    "name": "ipython",
    "version": 3
   },
   "file_extension": ".py",
   "mimetype": "text/x-python",
   "name": "python",
   "nbconvert_exporter": "python",
   "pygments_lexer": "ipython3",
   "version": "3.6.5"
  }
 },
 "nbformat": 4,
 "nbformat_minor": 2
}
